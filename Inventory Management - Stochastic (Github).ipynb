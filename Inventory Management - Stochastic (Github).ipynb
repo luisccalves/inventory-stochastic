{
 "cells": [
  {
   "cell_type": "code",
   "execution_count": 7,
   "metadata": {
    "collapsed": true
   },
   "outputs": [],
   "source": [
    "import pandas as pd\n",
    "import matplotlib.pyplot as plt\n",
    "import numpy as np\n",
    "import math\n",
    "import warnings\n",
    "import seaborn as sns\n",
    "import scipy.stats as stats\n",
    "import statsmodels.graphics.gofplots as sm"
   ]
  },
  {
   "cell_type": "code",
   "execution_count": 8,
   "metadata": {
    "collapsed": true
   },
   "outputs": [],
   "source": [
    "warnings.filterwarnings('ignore')"
   ]
  },
  {
   "cell_type": "code",
   "execution_count": 9,
   "metadata": {
    "collapsed": true
   },
   "outputs": [],
   "source": [
    "# Unit Normal Loss Function\n",
    "def unlf(k, sigma):\n",
    "    result = stats.norm(0, 1).pdf(k) - k * (1-stats.norm(0, 1).cdf(k))\n",
    "    return sigma * result"
   ]
  },
  {
   "cell_type": "markdown",
   "metadata": {},
   "source": []
  },
  {
   "cell_type": "markdown",
   "metadata": {},
   "source": [
    "## Continuous Review Policy: Order Point, Order Quantity Policy (s,Q) \n",
    "### Method 1: Cycle Service Level (Probability of not stock out in a cycle) = 95%"
   ]
  },
  {
   "cell_type": "code",
   "execution_count": 10,
   "metadata": {},
   "outputs": [
    {
     "name": "stdout",
     "output_type": "stream",
     "text": [
      "Average demand during lead time: 27 units\n",
      "Standard deviation during lead time: 5 units\n",
      "k = 1.64\n",
      "Reoder point with CSL: 36 units\n"
     ]
    }
   ],
   "source": [
    "# Demand = N(100, 15)\n",
    "mu = 2000\n",
    "sigma = 50\n",
    "variance = sigma **2\n",
    "# Days per year\n",
    "T_total = 365\n",
    "# Total Demand (units/year)\n",
    "D = mu\n",
    "# Demand per day (unit/day)\n",
    "D_day = D/T_total\n",
    "# Standard Deviation per day\n",
    "sigma_Day = sigma /math.sqrt(T_total)\n",
    "# Cost of item ($/unit)\n",
    "c = 100\n",
    "# Holding Cost (%/year)\n",
    "h = 0.15\n",
    "c_e = c * h\n",
    "# Holding Cost (%/year)\n",
    "h = 0.15\n",
    "# Lead Time (days)\n",
    "LD = 5\n",
    "# Order Quantity Q*\n",
    "Q = D_day * 15\n",
    "# Weeks per year\n",
    "T_total = 365\n",
    "# Cost per Stock Out\n",
    "B1 = 50000\n",
    "\n",
    "# 1. We fix CSL = 95%\n",
    "CSL = 0.95\n",
    "\n",
    "# Average during lead time period\n",
    "mu_ld = math.floor(mu * LD /(T_total))\n",
    "print(\"Average demand during lead time: {:,} units\".format(mu_ld))\n",
    "# Standard deviation \n",
    "sigma_ld = sigma * math.sqrt(LD /(T_total))\n",
    "print(\"Standard deviation during lead time: {:,} units\".format(math.floor(sigma_ld)))\n",
    "# Level of Service to fix k\n",
    "k = round(stats.norm(0, 1).ppf(CSL),2)\n",
    "print(\"k = {:,}\".format(round(k, 2)))\n",
    "# Reorder Point\n",
    "s = mu_ld + k * sigma_ld\n",
    "print(\"Reoder point with CSL: {:,} units\".format(math.floor(s)))"
   ]
  },
  {
   "cell_type": "markdown",
   "metadata": {
    "collapsed": true
   },
   "source": [
    "### Method 2: Fix Item Fill Rate (IFR) = 99%"
   ]
  },
  {
   "cell_type": "code",
   "execution_count": 11,
   "metadata": {},
   "outputs": [
    {
     "name": "stdout",
     "output_type": "stream",
     "text": [
      "Find k for G(k) = 0.14\n",
      "Optimal k value = 0.71\n",
      "Reoder point with CSL: 31 units\n"
     ]
    },
    {
     "data": {
      "image/png": "[encoded data removed]",
      "text/plain": [
       "<Figure size 864x576 with 1 Axes>"
      ]
     },
     "metadata": {},
     "output_type": "display_data"
    }
   ],
   "source": [
    "# G(k) = Q/sigma_ld * (1 - IFR)\n",
    "IFR = 0.99\n",
    "G_k = (Q/sigma_ld) * (1 - IFR)\n",
    "print(\"Find k for G(k) = {:,}\".format(round(G_k,3)))\n",
    "\n",
    "# Find k\n",
    "l1, l2 = [], []\n",
    "for n in range(1, 300):\n",
    "    k = n * 0.01\n",
    "    l1.append(k)\n",
    "    # Sigma = 1 to have sigma x G(k) = G(k)\n",
    "    y = unlf(k, 1)\n",
    "    l2.append(y)\n",
    "\n",
    "df_result = pd.DataFrame({'k': l1,\n",
    "                         'G(k)':l2})\n",
    "df_result['delta'] = df_result['G(k)'] - G_k\n",
    "# k = min(delta)\n",
    "min_delta = df_result['delta'].abs().min()\n",
    "k_final = df_result[df_result['delta'].abs() == min_delta]['k'].values[0]\n",
    "print(\"Optimal k value = {:,}\".format(k_final))\n",
    "\n",
    "# Reodering point using CSOE\n",
    "s = mu_ld + k_final * sigma_ld\n",
    "print(\"Reoder point with CSL: {:,} units\".format(math.floor(s)))\n",
    "\n",
    "ax = plt.gca()\n",
    "df_result.plot(figsize=(12,8), x=\"k\", y=\"G(k)\", ax = ax, color = 'blue')\n",
    "plt.xlabel('k factor')\n",
    "plt.ylabel('G(k)')\n",
    "plt.axhline(G_k, color='black', linestyle=\"--\")\n",
    "plt.axvline(k_final, color='black', linestyle=\"--\")\n",
    "plt.title('Unit Normal Loss Function')\n",
    "plt.show()"
   ]
  }
 ],
 "metadata": {
  "kernelspec": {
   "display_name": "Python 3",
   "language": "python",
   "name": "python3"
  },
  "language_info": {
   "codemirror_mode": {
    "name": "ipython",
    "version": 3
   },
   "file_extension": ".py",
   "mimetype": "text/x-python",
   "name": "python",
   "nbconvert_exporter": "python",
   "pygments_lexer": "ipython3",
   "version": "3.6.1"
  }
 },
 "nbformat": 4,
 "nbformat_minor": 2
}
